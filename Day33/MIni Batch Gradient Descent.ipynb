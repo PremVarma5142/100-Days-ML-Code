{
 "cells": [
  {
   "cell_type": "code",
   "execution_count": 98,
   "id": "e5b874c8",
   "metadata": {},
   "outputs": [],
   "source": [
    "from sklearn.datasets import load_diabetes"
   ]
  },
  {
   "cell_type": "code",
   "execution_count": 99,
   "id": "3b1a5673",
   "metadata": {},
   "outputs": [],
   "source": [
    "import numpy as np\n",
    "from sklearn.linear_model import LinearRegression\n",
    "from sklearn.metrics import r2_score\n",
    "from sklearn.model_selection import train_test_split"
   ]
  },
  {
   "cell_type": "code",
   "execution_count": 100,
   "id": "1f9143c9",
   "metadata": {},
   "outputs": [],
   "source": [
    "X , y = load_diabetes(return_X_y=True)"
   ]
  },
  {
   "cell_type": "code",
   "execution_count": 101,
   "id": "4ffd414a",
   "metadata": {},
   "outputs": [],
   "source": [
    "x_train ,x_test,y_train,y_test = train_test_split(X , y ,\n",
    "                                                  test_size =0.3\n",
    "                                                 ,random_state=2)"
   ]
  },
  {
   "cell_type": "code",
   "execution_count": 102,
   "id": "8f85e66a",
   "metadata": {},
   "outputs": [
    {
     "data": {
      "text/plain": [
       "LinearRegression()"
      ]
     },
     "execution_count": 102,
     "metadata": {},
     "output_type": "execute_result"
    }
   ],
   "source": [
    "reg = LinearRegression()\n",
    "reg.fit(x_train,y_train)"
   ]
  },
  {
   "cell_type": "code",
   "execution_count": 103,
   "id": "a9893084",
   "metadata": {},
   "outputs": [],
   "source": [
    "y_pred = reg.predict(x_test)"
   ]
  },
  {
   "cell_type": "code",
   "execution_count": null,
   "id": "27d102a4",
   "metadata": {},
   "outputs": [],
   "source": []
  },
  {
   "cell_type": "code",
   "execution_count": 105,
   "id": "92881e4d",
   "metadata": {},
   "outputs": [
    {
     "data": {
      "text/plain": [
       "0.5012620528324085"
      ]
     },
     "execution_count": 105,
     "metadata": {},
     "output_type": "execute_result"
    }
   ],
   "source": [
    "r2_score(y_test,y_pred)"
   ]
  },
  {
   "cell_type": "code",
   "execution_count": 106,
   "id": "65fa8b8b",
   "metadata": {},
   "outputs": [
    {
     "data": {
      "text/plain": [
       "array([ -31.80536962, -214.67167622,  445.13750645,  376.35494358,\n",
       "       -802.45172889,  525.95185517,  106.39967097,  172.31122486,\n",
       "        799.47904182,   57.16768747])"
      ]
     },
     "execution_count": 106,
     "metadata": {},
     "output_type": "execute_result"
    }
   ],
   "source": [
    "reg.coef_"
   ]
  },
  {
   "cell_type": "code",
   "execution_count": 107,
   "id": "1588ed23",
   "metadata": {},
   "outputs": [
    {
     "data": {
      "text/plain": [
       "152.62754194200335"
      ]
     },
     "execution_count": 107,
     "metadata": {},
     "output_type": "execute_result"
    }
   ],
   "source": [
    "reg.intercept_"
   ]
  },
  {
   "cell_type": "code",
   "execution_count": 108,
   "id": "21db4a13",
   "metadata": {},
   "outputs": [],
   "source": [
    "import random\n",
    "class MBGDRegressor:\n",
    "    def __init__(self,batch_size,learning_rate=0.01,epochs=100):\n",
    "        self.coef_ = None\n",
    "        self.intercept_ = None\n",
    "        self.LR = learning_rate\n",
    "        self.epochs = epochs\n",
    "        self.batch_size = batch_size\n",
    "        \n",
    "    def fit(self,x_train,y_train):\n",
    "        self.intercept_ = 0\n",
    "        self.coef_ = np.ones(x_train.shape[1])\n",
    "        \n",
    "        for i in range(self.epochs):\n",
    "        \n",
    "            for j in range(int(x_train.shape[0]/self.batch_size)):\n",
    "                idx = random.sample(range(x_train.shape[0]),self.batch_size)\n",
    "\n",
    "                y_hat = np.dot(x_train[idx] , self.coef_) + self.intercept_\n",
    "\n",
    "                intercept_der = -2 * np.mean(y_train[idx] - y_hat)\n",
    "                self.intercept_ = self.intercept_ - (self.LR * intercept_der)\n",
    "\n",
    "                coef_der = -2 * np.dot((y_train[idx] - y_hat),x_train[idx])\n",
    "                self.coef_ = self.coef_ - (self.LR * coef_der)\n",
    "\n",
    "        print(self.intercept_,self.coef_)\n",
    "        \n",
    "    def predict(self,x_test):\n",
    "        return np.dot(x_test,self.coef_) +self.intercept_"
   ]
  },
  {
   "cell_type": "code",
   "execution_count": 109,
   "id": "207934fc",
   "metadata": {},
   "outputs": [],
   "source": [
    "mbr = MBGDRegressor(learning_rate=0.01,\n",
    "                    batch_size=int(x_train.shape[0]/10),\n",
    "                    epochs=160)"
   ]
  },
  {
   "cell_type": "code",
   "execution_count": 110,
   "id": "d49d3112",
   "metadata": {},
   "outputs": [
    {
     "name": "stdout",
     "output_type": "stream",
     "text": [
      "151.60388312575856 [   6.86894207 -174.99861866  407.89325305  348.55607674  -20.86078269\n",
      "  -83.18618733 -213.60500017  138.1190165   426.20995855  103.62836433]\n"
     ]
    }
   ],
   "source": [
    "mbr.fit(x_train,y_train)"
   ]
  },
  {
   "cell_type": "code",
   "execution_count": 111,
   "id": "2c20d16b",
   "metadata": {},
   "outputs": [],
   "source": [
    "y_pred = mbr.predict(x_test)"
   ]
  },
  {
   "cell_type": "code",
   "execution_count": 112,
   "id": "1cf375a7",
   "metadata": {},
   "outputs": [
    {
     "data": {
      "text/plain": [
       "0.4912752730813028"
      ]
     },
     "execution_count": 112,
     "metadata": {},
     "output_type": "execute_result"
    }
   ],
   "source": [
    "r2_score(y_test,y_pred)"
   ]
  },
  {
   "cell_type": "code",
   "execution_count": null,
   "id": "87904051",
   "metadata": {},
   "outputs": [],
   "source": []
  },
  {
   "cell_type": "code",
   "execution_count": 113,
   "id": "a8793c5e",
   "metadata": {},
   "outputs": [],
   "source": [
    "from sklearn.linear_model import SGDRegressor"
   ]
  },
  {
   "cell_type": "code",
   "execution_count": 115,
   "id": "bfdbde09",
   "metadata": {},
   "outputs": [],
   "source": [
    "sgd = SGDRegressor(learning_rate='constant',eta0=0.2)"
   ]
  },
  {
   "cell_type": "code",
   "execution_count": 142,
   "id": "5964348a",
   "metadata": {},
   "outputs": [],
   "source": [
    "batch_size = 100\n",
    "for i in range(100):\n",
    "    idx = random.sample(range(x_train.shape[0]),batch_size)\n",
    "    sgd.partial_fit(x_train[idx],y_train[idx])"
   ]
  },
  {
   "cell_type": "code",
   "execution_count": 143,
   "id": "70fca9b7",
   "metadata": {},
   "outputs": [
    {
     "data": {
      "text/plain": [
       "array([ -41.88467589, -193.75230255,  448.9554431 ,  328.88254602,\n",
       "       -112.34570987,  -28.15158802, -189.74942359,  119.71913482,\n",
       "        510.72693675,   66.63864232])"
      ]
     },
     "execution_count": 143,
     "metadata": {},
     "output_type": "execute_result"
    }
   ],
   "source": [
    "sgd.coef_"
   ]
  },
  {
   "cell_type": "code",
   "execution_count": 144,
   "id": "9ca14a3c",
   "metadata": {},
   "outputs": [
    {
     "data": {
      "text/plain": [
       "array([153.98437641])"
      ]
     },
     "execution_count": 144,
     "metadata": {},
     "output_type": "execute_result"
    }
   ],
   "source": [
    "sgd.intercept_"
   ]
  },
  {
   "cell_type": "code",
   "execution_count": null,
   "id": "314ed46a",
   "metadata": {},
   "outputs": [],
   "source": []
  },
  {
   "cell_type": "code",
   "execution_count": null,
   "id": "7e76118e",
   "metadata": {},
   "outputs": [],
   "source": []
  }
 ],
 "metadata": {
  "kernelspec": {
   "display_name": "Python 3",
   "language": "python",
   "name": "python3"
  },
  "language_info": {
   "codemirror_mode": {
    "name": "ipython",
    "version": 3
   },
   "file_extension": ".py",
   "mimetype": "text/x-python",
   "name": "python",
   "nbconvert_exporter": "python",
   "pygments_lexer": "ipython3",
   "version": "3.7.11"
  }
 },
 "nbformat": 4,
 "nbformat_minor": 5
}
