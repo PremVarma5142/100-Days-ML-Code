{
 "cells": [
  {
   "cell_type": "code",
   "execution_count": 53,
   "id": "15a83061",
   "metadata": {},
   "outputs": [],
   "source": [
    "import pandas as pd\n",
    "import seaborn as sns\n",
    "import matplotlib.pyplot as plt"
   ]
  },
  {
   "cell_type": "code",
   "execution_count": 55,
   "id": "0e400382",
   "metadata": {},
   "outputs": [],
   "source": [
    "df = pd.read_csv(\"Downloads/poly.csv\")"
   ]
  },
  {
   "cell_type": "code",
   "execution_count": null,
   "id": "611248ef",
   "metadata": {},
   "outputs": [],
   "source": [
    "df"
   ]
  },
  {
   "cell_type": "code",
   "execution_count": null,
   "id": "caede89e",
   "metadata": {},
   "outputs": [],
   "source": [
    "plt.scatter(df['Area'],df['Price'])"
   ]
  },
  {
   "cell_type": "code",
   "execution_count": null,
   "id": "fff8a2bf",
   "metadata": {},
   "outputs": [],
   "source": [
    "from sklearn.linear_model import LinearRegression"
   ]
  },
  {
   "cell_type": "code",
   "execution_count": null,
   "id": "465cb887",
   "metadata": {},
   "outputs": [],
   "source": [
    "lr = LinearRegression()"
   ]
  },
  {
   "cell_type": "code",
   "execution_count": null,
   "id": "797b20ee",
   "metadata": {},
   "outputs": [],
   "source": [
    "lr.fit(df[['Area']],df[['Price']])"
   ]
  },
  {
   "cell_type": "code",
   "execution_count": null,
   "id": "e53eee04",
   "metadata": {},
   "outputs": [],
   "source": [
    "plt.plot(df[['Area']],lr.predict(df[['Area']]),color='r')\n",
    "plt.plot(df[['Area']],df[['Price']],'b.',marker ='o')"
   ]
  },
  {
   "cell_type": "code",
   "execution_count": null,
   "id": "63a676bc",
   "metadata": {},
   "outputs": [],
   "source": [
    "plt.scatter(df['Area'],df['Price'])"
   ]
  },
  {
   "cell_type": "code",
   "execution_count": null,
   "id": "7f0bb41c",
   "metadata": {},
   "outputs": [],
   "source": [
    "from sklearn.preprocessing import PolynomialFeatures\n",
    "poly = PolynomialFeatures(degree = 5,include_bias = True)"
   ]
  },
  {
   "cell_type": "code",
   "execution_count": null,
   "id": "9349fa36",
   "metadata": {},
   "outputs": [],
   "source": [
    "from sklearn.model_selection import train_test_split\n",
    "x_train , x_test , y_train , y_test = train_test_split(x , y ,test_size=0.20, random_state=42 )"
   ]
  },
  {
   "cell_type": "code",
   "execution_count": null,
   "id": "5314fafd",
   "metadata": {},
   "outputs": [],
   "source": [
    "x = df[['Area']].values\n",
    "y = df[['Price']].values"
   ]
  },
  {
   "cell_type": "code",
   "execution_count": null,
   "id": "055f997c",
   "metadata": {},
   "outputs": [],
   "source": [
    "x"
   ]
  },
  {
   "cell_type": "code",
   "execution_count": null,
   "id": "b3c4a3f5",
   "metadata": {},
   "outputs": [],
   "source": [
    "y"
   ]
  },
  {
   "cell_type": "code",
   "execution_count": null,
   "id": "bbe4ac47",
   "metadata": {},
   "outputs": [],
   "source": [
    "x_train"
   ]
  },
  {
   "cell_type": "code",
   "execution_count": null,
   "id": "49f44e1c",
   "metadata": {},
   "outputs": [],
   "source": [
    "x_test"
   ]
  },
  {
   "cell_type": "code",
   "execution_count": null,
   "id": "1469d1ab",
   "metadata": {},
   "outputs": [],
   "source": [
    "x_train_trans = poly.fit_transform(x_train)\n",
    "x_test_trans = poly.fit_transform(x_test)"
   ]
  },
  {
   "cell_type": "code",
   "execution_count": null,
   "id": "a7ba18fd",
   "metadata": {},
   "outputs": [],
   "source": [
    "print(x_train[1])\n",
    "print(x_train_trans[1])"
   ]
  },
  {
   "cell_type": "code",
   "execution_count": null,
   "id": "8d771626",
   "metadata": {},
   "outputs": [],
   "source": [
    "lr.fit(x_train_trans,y_train)"
   ]
  },
  {
   "cell_type": "code",
   "execution_count": null,
   "id": "c9943845",
   "metadata": {},
   "outputs": [],
   "source": [
    "y_pred = lr.predict(x_test_trans)"
   ]
  },
  {
   "cell_type": "code",
   "execution_count": null,
   "id": "5957c350",
   "metadata": {},
   "outputs": [],
   "source": [
    "x_test_trans"
   ]
  },
  {
   "cell_type": "code",
   "execution_count": null,
   "id": "697cb2bc",
   "metadata": {},
   "outputs": [],
   "source": [
    "y_pred"
   ]
  },
  {
   "cell_type": "code",
   "execution_count": null,
   "id": "e1f22062",
   "metadata": {},
   "outputs": [],
   "source": [
    "df"
   ]
  },
  {
   "cell_type": "code",
   "execution_count": null,
   "id": "6f1485c1",
   "metadata": {},
   "outputs": [],
   "source": [
    "x = df['Area'].values\n",
    "y = df['Price'].values\n",
    "mymodel = numpy.poly1d(numpy.polyfit(x, y, 3))\n",
    "\n",
    "myline = numpy.linspace(500,2300,100)\n",
    "\n",
    "plt.scatter(x, y)\n",
    "plt.plot(myline, mymodel(myline))\n",
    "plt.show()"
   ]
  },
  {
   "cell_type": "code",
   "execution_count": null,
   "id": "65a583d5",
   "metadata": {},
   "outputs": [],
   "source": [
    "# import numpy as np\n",
    "# x_new = np.linspace(-3,3,8).reshape(1,-1)\n",
    "# x_poly_t = poly.transform(x_new)\n",
    "# y_new = lr.predict(x_new)\n",
    "\n",
    "myline = numpy.linspace(500,2300,100).reshape(1,-1).T"
   ]
  },
  {
   "cell_type": "code",
   "execution_count": null,
   "id": "5cc6df65",
   "metadata": {},
   "outputs": [],
   "source": [
    "# y_lr_pred = lr.predict(myline)\n",
    "# my_line_T = myline.T\n",
    "my_line_T = poly.fit_transform(myline)\n",
    "y_lr_pred = lr.predict(my_line_T)\n",
    "# my_line_T"
   ]
  },
  {
   "cell_type": "code",
   "execution_count": null,
   "id": "11af9535",
   "metadata": {},
   "outputs": [],
   "source": [
    "import numpy \n",
    "# myline = numpy.linspace(500,2300,100).reshape(1,-1)\n",
    "plt.plot(x_train,y_train,'b.',marker='o')\n",
    "plt.plot(x_test,y_test,'g.',marker ='o')\n",
    "plt.plot(myline, y_lr_pred,'r-')\n",
    "# plt.plot(y_train,x_train_trans,color='r')"
   ]
  },
  {
   "cell_type": "code",
   "execution_count": null,
   "id": "e776aa00",
   "metadata": {},
   "outputs": [],
   "source": [
    "x_new"
   ]
  },
  {
   "cell_type": "code",
   "execution_count": null,
   "id": "7440c79e",
   "metadata": {},
   "outputs": [],
   "source": [
    "from sklearn.metrics import r2_score\n",
    "r2_score(y_pred,y_test)"
   ]
  },
  {
   "cell_type": "code",
   "execution_count": null,
   "id": "623914c0",
   "metadata": {},
   "outputs": [],
   "source": []
  },
  {
   "cell_type": "code",
   "execution_count": null,
   "id": "a5ea9415",
   "metadata": {},
   "outputs": [],
   "source": []
  },
  {
   "cell_type": "code",
   "execution_count": null,
   "id": "d7b6c7c2",
   "metadata": {},
   "outputs": [],
   "source": []
  },
  {
   "cell_type": "code",
   "execution_count": 56,
   "id": "7b5d8840",
   "metadata": {},
   "outputs": [],
   "source": [
    "import numpy as np\n",
    "import matplotlib.pyplot as plt\n",
    "\n",
    "from sklearn.model_selection import train_test_split\n",
    "\n",
    "from sklearn.linear_model import LinearRegression,SGDRegressor\n",
    "\n",
    "from sklearn.preprocessing import PolynomialFeatures,StandardScaler\n",
    "\n",
    "from sklearn.metrics import r2_score\n",
    "\n",
    "from sklearn.pipeline import Pipeline"
   ]
  },
  {
   "cell_type": "code",
   "execution_count": 57,
   "id": "229ca9ef",
   "metadata": {},
   "outputs": [],
   "source": [
    "X = 6 * np.random.rand(200, 1) - 3\n",
    "y = 0.8 * X**2 + 0.9 * X + 2 + np.random.randn(200, 1)"
   ]
  },
  {
   "cell_type": "code",
   "execution_count": 58,
   "id": "833f3c09",
   "metadata": {},
   "outputs": [
    {
     "data": {
      "image/png": "[encoded data removed]",
      "text/plain": [
       "<Figure size 432x288 with 1 Axes>"
      ]
     },
     "metadata": {
      "needs_background": "light"
     },
     "output_type": "display_data"
    }
   ],
   "source": [
    "plt.plot(X, y,'b.')\n",
    "plt.xlabel(\"X\")\n",
    "plt.ylabel(\"y\")\n",
    "plt.show()"
   ]
  },
  {
   "cell_type": "code",
   "execution_count": 59,
   "id": "5172be7a",
   "metadata": {},
   "outputs": [],
   "source": [
    "X_train,X_test,y_train,y_test = train_test_split(X,y,test_size=0.2,random_state=2)"
   ]
  },
  {
   "cell_type": "code",
   "execution_count": 60,
   "id": "ca656128",
   "metadata": {},
   "outputs": [],
   "source": [
    "lr = LinearRegression()"
   ]
  },
  {
   "cell_type": "code",
   "execution_count": 61,
   "id": "915d002a",
   "metadata": {},
   "outputs": [
    {
     "data": {
      "text/plain": [
       "LinearRegression()"
      ]
     },
     "execution_count": 61,
     "metadata": {},
     "output_type": "execute_result"
    }
   ],
   "source": [
    "lr.fit(X_train,y_train)"
   ]
  },
  {
   "cell_type": "code",
   "execution_count": 62,
   "id": "44aa8360",
   "metadata": {},
   "outputs": [
    {
     "data": {
      "text/plain": [
       "0.34160642567966304"
      ]
     },
     "execution_count": 62,
     "metadata": {},
     "output_type": "execute_result"
    }
   ],
   "source": [
    "y_pred = lr.predict(X_test)\n",
    "r2_score(y_test,y_pred)"
   ]
  },
  {
   "cell_type": "code",
   "execution_count": 63,
   "id": "17745953",
   "metadata": {},
   "outputs": [
    {
     "data": {
      "image/png": "[encoded data removed]",
      "text/plain": [
       "<Figure size 432x288 with 1 Axes>"
      ]
     },
     "metadata": {
      "needs_background": "light"
     },
     "output_type": "display_data"
    }
   ],
   "source": [
    "plt.plot(X_train,lr.predict(X_train),color='r')\n",
    "plt.plot(X, y, \"b.\")\n",
    "plt.xlabel(\"X\")\n",
    "plt.ylabel(\"y\")\n",
    "plt.show()"
   ]
  },
  {
   "cell_type": "code",
   "execution_count": 64,
   "id": "4ee40345",
   "metadata": {},
   "outputs": [],
   "source": [
    "poly = PolynomialFeatures(degree=2,include_bias=True)\n",
    "\n",
    "X_train_trans = poly.fit_transform(X_train)\n",
    "X_test_trans = poly.transform(X_test)"
   ]
  },
  {
   "cell_type": "code",
   "execution_count": 65,
   "id": "ee6b0374",
   "metadata": {},
   "outputs": [
    {
     "name": "stdout",
     "output_type": "stream",
     "text": [
      "[2.0599645]\n",
      "[1.         2.0599645  4.24345373]\n"
     ]
    }
   ],
   "source": [
    "print(X_train[0])\n",
    "print(X_train_trans[0])"
   ]
  },
  {
   "cell_type": "code",
   "execution_count": 66,
   "id": "b708977b",
   "metadata": {},
   "outputs": [
    {
     "data": {
      "text/plain": [
       "LinearRegression()"
      ]
     },
     "execution_count": 66,
     "metadata": {},
     "output_type": "execute_result"
    }
   ],
   "source": [
    "lr = LinearRegression()\n",
    "lr.fit(X_train_trans,y_train)"
   ]
  },
  {
   "cell_type": "code",
   "execution_count": 67,
   "id": "09f67c01",
   "metadata": {},
   "outputs": [],
   "source": [
    "y_pred = lr.predict(X_test_trans)"
   ]
  },
  {
   "cell_type": "code",
   "execution_count": 68,
   "id": "b2fdb9ee",
   "metadata": {},
   "outputs": [],
   "source": [
    "# y_pred"
   ]
  },
  {
   "cell_type": "code",
   "execution_count": 69,
   "id": "7dbd17a1",
   "metadata": {},
   "outputs": [
    {
     "data": {
      "text/plain": [
       "0.8981501734938755"
      ]
     },
     "execution_count": 69,
     "metadata": {},
     "output_type": "execute_result"
    }
   ],
   "source": [
    "r2_score(y_test,y_pred)"
   ]
  },
  {
   "cell_type": "code",
   "execution_count": 70,
   "id": "379f0211",
   "metadata": {},
   "outputs": [
    {
     "name": "stdout",
     "output_type": "stream",
     "text": [
      "[[0.         0.84314187 0.77556716]]\n",
      "[2.17185418]\n"
     ]
    }
   ],
   "source": [
    "print(lr.coef_)\n",
    "print(lr.intercept_)"
   ]
  },
  {
   "cell_type": "code",
   "execution_count": 71,
   "id": "7d94acdc",
   "metadata": {},
   "outputs": [],
   "source": [
    "X_new=np.linspace(-3, 3, 200).reshape(200, 1)\n",
    "X_new_poly = poly.transform(X_new)\n",
    "y_new = lr.predict(X_new_poly)"
   ]
  },
  {
   "cell_type": "code",
   "execution_count": 72,
   "id": "b06e5e9e",
   "metadata": {},
   "outputs": [
    {
     "data": {
      "image/png": "[encoded data removed]",
      "text/plain": [
       "<Figure size 432x288 with 1 Axes>"
      ]
     },
     "metadata": {
      "needs_background": "light"
     },
     "output_type": "display_data"
    }
   ],
   "source": [
    "plt.plot(y_new, \"r-\", linewidth=2, label=\"Predictions\")\n",
    "# plt.plot(X_new, X_new_poly ,\"b.\",label='Training points')\n",
    "# plt.plot(X_test, y_test, \"r.\",label='Testing points')\n",
    "plt.xlabel(\"X\")\n",
    "plt.ylabel(\"y\")\n",
    "plt.legend()\n",
    "plt.show()"
   ]
  },
  {
   "cell_type": "code",
   "execution_count": 73,
   "id": "95f492dd",
   "metadata": {},
   "outputs": [],
   "source": [
    "def polynomial_regression(degree):\n",
    "    X_new=np.linspace(-3, 3, 100).reshape(100, 1)\n",
    "    X_new_poly = poly.transform(X_new)\n",
    "\n",
    "    polybig_features = PolynomialFeatures(degree=degree, include_bias=False)\n",
    "    std_scaler = StandardScaler()\n",
    "    lin_reg = LinearRegression()\n",
    "    polynomial_regression = Pipeline([\n",
    "            (\"poly_features\", polybig_features),\n",
    "            (\"std_scaler\", std_scaler),\n",
    "            (\"lin_reg\", lin_reg),\n",
    "        ])\n",
    "    polynomial_regression.fit(X, y)\n",
    "    y_newbig = polynomial_regression.predict(X_new)\n",
    "    plt.plot(X_new, y_newbig,'r', label=\"Degree \" + str(degree), linewidth=2)\n",
    "\n",
    "    plt.plot(X_train, y_train, \"b.\", linewidth=3)\n",
    "    plt.plot(X_test, y_test, \"g.\", linewidth=3)\n",
    "    plt.legend(loc=\"upper left\")\n",
    "    plt.xlabel(\"X\")\n",
    "    plt.ylabel(\"y\")\n",
    "    plt.axis([-3, 3, 0, 10])\n",
    "    plt.show()"
   ]
  },
  {
   "cell_type": "code",
   "execution_count": 75,
   "id": "f4464ea7",
   "metadata": {},
   "outputs": [
    {
     "data": {
      "image/png": "[encoded data removed]",
      "text/plain": [
       "<Figure size 432x288 with 1 Axes>"
      ]
     },
     "metadata": {
      "needs_background": "light"
     },
     "output_type": "display_data"
    }
   ],
   "source": [
    "polynomial_regression(5)"
   ]
  },
  {
   "cell_type": "code",
   "execution_count": null,
   "id": "46bed926",
   "metadata": {},
   "outputs": [],
   "source": []
  },
  {
   "cell_type": "code",
   "execution_count": null,
   "id": "2431ec1e",
   "metadata": {},
   "outputs": [],
   "source": []
  },
  {
   "cell_type": "code",
   "execution_count": 76,
   "id": "a0f06295",
   "metadata": {},
   "outputs": [
    {
     "data": {
      "image/png": "[encoded data removed]",
      "text/plain": [
       "<Figure size 432x288 with 1 Axes>"
      ]
     },
     "metadata": {
      "needs_background": "light"
     },
     "output_type": "display_data"
    }
   ],
   "source": [
    "import numpy\n",
    "import matplotlib.pyplot as plt\n",
    "\n",
    "x = [1,2,3,5,6,7,8,9,10,12,13,14,15,16,18,19,21,22]\n",
    "y = [100,90,80,60,60,55,60,65,70,70,75,76,78,79,90,99,99,100]\n",
    "\n",
    "mymodel = numpy.poly1d(numpy.polyfit(x, y, 3))\n",
    "\n",
    "myline = numpy.linspace(1, 22, 100)\n",
    "\n",
    "plt.scatter(x, y)\n",
    "plt.plot(myline, mymodel(myline))\n",
    "plt.show()"
   ]
  },
  {
   "cell_type": "code",
   "execution_count": 77,
   "id": "a4ca2614",
   "metadata": {},
   "outputs": [
    {
     "data": {
      "text/plain": [
       "array([ 1.        ,  1.21212121,  1.42424242,  1.63636364,  1.84848485,\n",
       "        2.06060606,  2.27272727,  2.48484848,  2.6969697 ,  2.90909091,\n",
       "        3.12121212,  3.33333333,  3.54545455,  3.75757576,  3.96969697,\n",
       "        4.18181818,  4.39393939,  4.60606061,  4.81818182,  5.03030303,\n",
       "        5.24242424,  5.45454545,  5.66666667,  5.87878788,  6.09090909,\n",
       "        6.3030303 ,  6.51515152,  6.72727273,  6.93939394,  7.15151515,\n",
       "        7.36363636,  7.57575758,  7.78787879,  8.        ,  8.21212121,\n",
       "        8.42424242,  8.63636364,  8.84848485,  9.06060606,  9.27272727,\n",
       "        9.48484848,  9.6969697 ,  9.90909091, 10.12121212, 10.33333333,\n",
       "       10.54545455, 10.75757576, 10.96969697, 11.18181818, 11.39393939,\n",
       "       11.60606061, 11.81818182, 12.03030303, 12.24242424, 12.45454545,\n",
       "       12.66666667, 12.87878788, 13.09090909, 13.3030303 , 13.51515152,\n",
       "       13.72727273, 13.93939394, 14.15151515, 14.36363636, 14.57575758,\n",
       "       14.78787879, 15.        , 15.21212121, 15.42424242, 15.63636364,\n",
       "       15.84848485, 16.06060606, 16.27272727, 16.48484848, 16.6969697 ,\n",
       "       16.90909091, 17.12121212, 17.33333333, 17.54545455, 17.75757576,\n",
       "       17.96969697, 18.18181818, 18.39393939, 18.60606061, 18.81818182,\n",
       "       19.03030303, 19.24242424, 19.45454545, 19.66666667, 19.87878788,\n",
       "       20.09090909, 20.3030303 , 20.51515152, 20.72727273, 20.93939394,\n",
       "       21.15151515, 21.36363636, 21.57575758, 21.78787879, 22.        ])"
      ]
     },
     "execution_count": 77,
     "metadata": {},
     "output_type": "execute_result"
    }
   ],
   "source": [
    "myline"
   ]
  },
  {
   "cell_type": "code",
   "execution_count": null,
   "id": "0d1a2e05",
   "metadata": {},
   "outputs": [],
   "source": []
  }
 ],
 "metadata": {
  "kernelspec": {
   "display_name": "Python 3",
   "language": "python",
   "name": "python3"
  },
  "language_info": {
   "codemirror_mode": {
    "name": "ipython",
    "version": 3
   },
   "file_extension": ".py",
   "mimetype": "text/x-python",
   "name": "python",
   "nbconvert_exporter": "python",
   "pygments_lexer": "ipython3",
   "version": "3.7.11"
  }
 },
 "nbformat": 4,
 "nbformat_minor": 5
}
